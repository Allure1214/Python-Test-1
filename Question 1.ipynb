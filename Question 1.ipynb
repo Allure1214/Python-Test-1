{
 "cells": [
  {
   "cell_type": "code",
   "execution_count": 8,
   "id": "c8a12c0b-0a6b-44eb-9bf8-29e8467490cb",
   "metadata": {},
   "outputs": [
    {
     "name": "stdout",
     "output_type": "stream",
     "text": [
      "_ _ _ _ _ _\n",
      "\n",
      "        ------\n",
      "             |\n",
      "             |\n",
      "             |\n",
      "             |\n",
      "        --------\n",
      "        \n"
     ]
    },
    {
     "name": "stdin",
     "output_type": "stream",
     "text": [
      "Guess a letter:  W\n"
     ]
    },
    {
     "name": "stdout",
     "output_type": "stream",
     "text": [
      "Incorrect guesses: 1\n",
      "_ _ _ _ _ _\n",
      "\n",
      "        ------\n",
      "        O    |\n",
      "             |\n",
      "             |\n",
      "             |\n",
      "        --------\n",
      "        \n"
     ]
    },
    {
     "name": "stdin",
     "output_type": "stream",
     "text": [
      "Guess a letter:  O\n"
     ]
    },
    {
     "name": "stdout",
     "output_type": "stream",
     "text": [
      "Incorrect guesses: 2\n",
      "_ _ _ _ _ _\n",
      "\n",
      "        ------\n",
      "        O    |\n",
      "        |    |\n",
      "             |\n",
      "             |\n",
      "        --------\n",
      "        \n"
     ]
    },
    {
     "name": "stdin",
     "output_type": "stream",
     "text": [
      "Guess a letter:  C\n"
     ]
    },
    {
     "name": "stdout",
     "output_type": "stream",
     "text": [
      "Incorrect guesses: 3\n",
      "_ _ _ _ _ _\n",
      "\n",
      "        ------\n",
      "        O    |\n",
      "       /|    |\n",
      "             |\n",
      "             |\n",
      "        --------\n",
      "        \n"
     ]
    },
    {
     "name": "stdin",
     "output_type": "stream",
     "text": [
      "Guess a letter:  L\n"
     ]
    },
    {
     "name": "stdout",
     "output_type": "stream",
     "text": [
      "Incorrect guesses: 4\n",
      "_ _ _ _ _ _\n",
      "\n",
      "        ------\n",
      "        O    |\n",
      "       /|\\   |\n",
      "             |\n",
      "             |\n",
      "        --------\n",
      "        \n"
     ]
    },
    {
     "name": "stdin",
     "output_type": "stream",
     "text": [
      "Guess a letter:  A\n"
     ]
    },
    {
     "name": "stdout",
     "output_type": "stream",
     "text": [
      "Incorrect guesses: 5\n",
      "_ _ _ _ _ _\n",
      "\n",
      "        ------\n",
      "        O    |\n",
      "       /|\\   |\n",
      "       /     |\n",
      "             |\n",
      "        --------\n",
      "        \n"
     ]
    },
    {
     "name": "stdin",
     "output_type": "stream",
     "text": [
      "Guess a letter:  E\n"
     ]
    },
    {
     "name": "stdout",
     "output_type": "stream",
     "text": [
      "Incorrect guesses: 5\n",
      "_ _ _ _ E _\n",
      "\n",
      "        ------\n",
      "        O    |\n",
      "       /|\\   |\n",
      "       /     |\n",
      "             |\n",
      "        --------\n",
      "        \n"
     ]
    },
    {
     "name": "stdin",
     "output_type": "stream",
     "text": [
      "Guess a letter:  W\n"
     ]
    },
    {
     "name": "stdout",
     "output_type": "stream",
     "text": [
      "You already guessed that letter.\n",
      "Incorrect guesses: 5\n",
      "_ _ _ _ E _\n",
      "\n",
      "        ------\n",
      "        O    |\n",
      "       /|\\   |\n",
      "       /     |\n",
      "             |\n",
      "        --------\n",
      "        \n"
     ]
    },
    {
     "name": "stdin",
     "output_type": "stream",
     "text": [
      "Guess a letter:  H\n"
     ]
    },
    {
     "name": "stdout",
     "output_type": "stream",
     "text": [
      "Incorrect guesses: 6\n",
      "\n",
      "        ------\n",
      "        O    |\n",
      "       /|\\   |\n",
      "       / \\   |\n",
      "             |\n",
      "        --------\n",
      "        \n",
      "You lost! The word was BURGER.\n"
     ]
    }
   ],
   "source": [
    "import random\n",
    "\n",
    "def hangman():\n",
    "    words = ['PASTA', 'PIZZA', 'RICE', 'LAMB', 'BURGER', 'WEDGES']\n",
    "    word = random.choice(words)\n",
    "    word_letters = set(word)  # letters in the word\n",
    "    guessed_letters = set()  # what the user has guessed\n",
    "    hidden_word = ['_' for _ in word]\n",
    "    incorrect_guesses = 0\n",
    "    max_incorrect_guesses = 6\n",
    "\n",
    "    hangman_pics = [\n",
    "        \"\"\"\n",
    "        ------\n",
    "             |\n",
    "             |\n",
    "             |\n",
    "             |\n",
    "        --------\n",
    "        \"\"\",\n",
    "        \"\"\"\n",
    "        ------\n",
    "        O    |\n",
    "             |\n",
    "             |\n",
    "             |\n",
    "        --------\n",
    "        \"\"\",\n",
    "        \"\"\"\n",
    "        ------\n",
    "        O    |\n",
    "        |    |\n",
    "             |\n",
    "             |\n",
    "        --------\n",
    "        \"\"\",\n",
    "        \"\"\"\n",
    "        ------\n",
    "        O    |\n",
    "       /|    |\n",
    "             |\n",
    "             |\n",
    "        --------\n",
    "        \"\"\",\n",
    "        \"\"\"\n",
    "        ------\n",
    "        O    |\n",
    "       /|\\\\   |\n",
    "             |\n",
    "             |\n",
    "        --------\n",
    "        \"\"\",\n",
    "        \"\"\"\n",
    "        ------\n",
    "        O    |\n",
    "       /|\\\\   |\n",
    "       /     |\n",
    "             |\n",
    "        --------\n",
    "        \"\"\",\n",
    "        \"\"\"\n",
    "        ------\n",
    "        O    |\n",
    "       /|\\\\   |\n",
    "       / \\\\   |\n",
    "             |\n",
    "        --------\n",
    "        \"\"\"\n",
    "    ]\n",
    "\n",
    "    while incorrect_guesses < max_incorrect_guesses and '_' in hidden_word:\n",
    "        print(' '.join(hidden_word))\n",
    "        print(hangman_pics[incorrect_guesses])\n",
    "        guess = input('Guess a letter: ').upper()\n",
    "\n",
    "        if guess in guessed_letters:\n",
    "            print(f\"You already guessed that letter.\")\n",
    "        elif guess in word_letters:\n",
    "            guessed_letters.add(guess)\n",
    "            for i, letter in enumerate(word):\n",
    "                if letter == guess:\n",
    "                    hidden_word[i] = guess\n",
    "        else:\n",
    "            guessed_letters.add(guess)\n",
    "            incorrect_guesses += 1\n",
    "\n",
    "        print(f\"Incorrect guesses: {incorrect_guesses}\")\n",
    "\n",
    "    if incorrect_guesses == max_incorrect_guesses:\n",
    "        print(hangman_pics[incorrect_guesses])\n",
    "        print(f\"You lost! The word was {word}.\")\n",
    "    else:\n",
    "        print(' '.join(hidden_word))\n",
    "        print(\"Congratulations! You guessed the word correctly!\")\n",
    "\n",
    "hangman()"
   ]
  },
  {
   "cell_type": "code",
   "execution_count": null,
   "id": "e3d27b35-f4e8-4f79-8a73-860f1fd54d8e",
   "metadata": {},
   "outputs": [],
   "source": []
  }
 ],
 "metadata": {
  "kernelspec": {
   "display_name": "Python 3 (ipykernel)",
   "language": "python",
   "name": "python3"
  },
  "language_info": {
   "codemirror_mode": {
    "name": "ipython",
    "version": 3
   },
   "file_extension": ".py",
   "mimetype": "text/x-python",
   "name": "python",
   "nbconvert_exporter": "python",
   "pygments_lexer": "ipython3",
   "version": "3.11.7"
  }
 },
 "nbformat": 4,
 "nbformat_minor": 5
}
